{
 "cells": [
  {
   "cell_type": "code",
   "execution_count": null,
   "metadata": {},
   "outputs": [],
   "source": [
    "import matplotlib.pyplot as plt\n",
    "import numpy as np\n",
    "import sympy as sy\n",
    "sy.init_printing() \n",
    "np.set_printoptions(precision=3)\n",
    "np.set_printoptions(suppress=True)"
   ]
  },
  {
   "cell_type": "markdown",
   "metadata": {},
   "source": [
    "Comenzamos explorando los fundamentos de la graficación en Python, mientras que simultáneamente repasamos el concepto de sistemas de ecuaciones lineales."
   ]
  },
  {
   "cell_type": "markdown",
   "metadata": {},
   "source": [
    "# <font face=\"gotham\" color=\"purple\"> Visualización de un Sistema de Dos Ecuaciones Lineales </font>"
   ]
  },
  {
   "cell_type": "markdown",
   "metadata": {},
   "source": [
    "Considera un sistema lineal de dos ecuaciones:\n",
    "\\begin{align}\n",
    "x+y&=6\\\\\n",
    "x-y&=-4\n",
    "\\end{align}\n",
    "Fácil de resolver: $(x, y)^T = (1, 5)^T$. Grafiquemos el sistema lineal."
   ]
  },
  {
   "cell_type": "code",
   "execution_count": null,
   "metadata": {},
   "outputs": [],
   "source": [
    "x = np.linspace(-5, 5, 100)\n",
    "y1 = -x + 6\n",
    "y2 = x + 4\n",
    "\n",
    "fig, ax = plt.subplots(figsize = (12, 7))\n",
    "ax.scatter(1, 5, s = 200, zorder=5, color = 'r', alpha = .8) \n",
    "\n",
    "ax.plot(x, y1, lw =3, label = '$x+y=6$')\n",
    "ax.plot(x, y2, lw =3, label = '$x-y=-4$')\n",
    "ax.plot([1, 1], [0, 5], ls = '--', color = 'b', alpha = .5)\n",
    "ax.plot([-5, 1], [5, 5], ls = '--', color = 'b', alpha = .5)\n",
    "ax.set_xlim([-5, 5])\n",
    "ax.set_ylim([0, 12])\n",
    "\n",
    "ax.legend()\n",
    "s = '$(1,5)$'\n",
    "ax.text(1, 5.5, s, fontsize = 20)\n",
    "ax.set_title('Solution of $x+y=6$, $x-y=-4$', size = 22)\n",
    "ax.grid()"
   ]
  },
  {
   "cell_type": "markdown",
   "metadata": {},
   "source": [
    "# <font face=\"gotham\" color=\"purple\"> Cómo Dibujar un Plano </font>"
   ]
  },
  {
   "cell_type": "markdown",
   "metadata": {},
   "source": [
    "Antes de dibujar un plano, repasemos la lógica de la graficación 3D de Matplotlib. Esto debería ser familiar para ti si eres un usuario de MATLAB. \n",
    "\n",
    "Primero, crea las mallas de coordenadas (meshgrids)."
   ]
  },
  {
   "cell_type": "code",
   "execution_count": null,
   "metadata": {},
   "outputs": [],
   "source": [
    "x, y = [-1, 0, 1], [-1, 0, 1]\n",
    "X, Y = np.meshgrid(x, y)"
   ]
  },
  {
   "cell_type": "markdown",
   "metadata": {},
   "source": [
    "Matemáticamente, las mallas de coordenadas (meshgrids) son las coordenadas de los _productos cartesianos_. Para ilustrarlo, podemos graficar todas las coordenadas de estas mallas."
   ]
  },
  {
   "cell_type": "code",
   "execution_count": null,
   "metadata": {},
   "outputs": [],
   "source": [
    "fig, ax = plt.subplots(figsize = (12, 7))\n",
    "ax.scatter(X, Y, s = 200, color = 'red')\n",
    "ax.axis([-2, 3.01, -2.01, 2])\n",
    "ax.spines['left'].set_position('zero') # alternative position is 'center'\n",
    "ax.spines['right'].set_color('none')\n",
    "ax.spines['bottom'].set_position('zero')\n",
    "ax.spines['top'].set_color('none')\n",
    "ax.grid()\n",
    "plt.show()"
   ]
  },
  {
   "cell_type": "markdown",
   "metadata": {},
   "source": [
    "Prueba una malla de coordenadas más complicada."
   ]
  },
  {
   "cell_type": "code",
   "execution_count": null,
   "metadata": {},
   "outputs": [],
   "source": [
    "x, y = np.arange(-3, 4, 1), np.arange(-3, 4, 1)\n",
    "X, Y = np.meshgrid(x, y)\n",
    "\n",
    "fig, ax = plt.subplots(figsize = (12, 12))\n",
    "ax.scatter(X, Y, s = 200, color = 'red', zorder = 3)\n",
    "ax.axis([-5, 5, -5, 5])\n",
    "\n",
    "ax.spines['left'].set_position('zero') # alternative position is 'center'\n",
    "ax.spines['right'].set_color('none')\n",
    "ax.spines['bottom'].set_position('zero')\n",
    "ax.spines['top'].set_color('none')\n",
    "ax.grid()"
   ]
  },
  {
   "cell_type": "markdown",
   "metadata": {},
   "source": [
    "Ahora considera la función $z = f(x, y)$, donde $z$ está en la 3ª dimensión. Aunque Matplotlib no está diseñado para la graficación delicada de gráficos 3D, la graficación 3D básica sigue siendo aceptable. \n",
    "\n",
    "Por ejemplo, definimos un plano simple como \n",
    "$$z= x + y$$\n",
    "Luego grafica $z$"
   ]
  },
  {
   "cell_type": "code",
   "execution_count": null,
   "metadata": {},
   "outputs": [],
   "source": [
    "Z = X + Y\n",
    "fig = plt.figure(figsize = (9,9))\n",
    "ax = fig.add_subplot(111, projection = '3d')\n",
    "ax.scatter(X, Y, Z, s = 100, label = '$z=x+y$')\n",
    "ax.legend()\n",
    "plt.show()"
   ]
  },
  {
   "cell_type": "markdown",
   "metadata": {},
   "source": [
    "O podemos graficarlo como una superficie. Matplotlib interpolará automáticamente los valores entre las coordenadas cartesianas para que el gráfico parezca una superficie."
   ]
  },
  {
   "cell_type": "code",
   "execution_count": null,
   "metadata": {},
   "outputs": [],
   "source": [
    "fig = plt.figure(figsize = (9, 9))\n",
    "ax = fig.add_subplot(111, projection = '3d')\n",
    "ax.plot_surface(X, Y, Z, cmap ='viridis') # MATLAB default color map\n",
    "ax.set_xlabel('x-axis')\n",
    "ax.set_ylabel('y-axis')\n",
    "ax.set_zlabel('z-axis')\n",
    "ax.set_title('$z=x+y$', size = 18)\n",
    "plt.show()"
   ]
  },
  {
   "cell_type": "markdown",
   "metadata": {},
   "source": [
    "# <font face=\"gotham\" color=\"purple\"> Visualización de un Sistema de Tres Ecuaciones Lineales  </font>"
   ]
  },
  {
   "cell_type": "markdown",
   "metadata": {},
   "source": [
    "Hemos repasado cómo graficar planos, ahora estamos listos para graficar varios planos todos juntos."
   ]
  },
  {
   "cell_type": "markdown",
   "metadata": {},
   "source": [
    "Considera este sistema de ecuaciones lineales\n",
    "\\begin{align}\n",
    "x_1- 2x_2+x_3&=0\\\\\n",
    "2x_2-8x_3&=8\\\\\n",
    "-4x_1+5x_2+9x_3&=-9\n",
    "\\end{align}\n",
    "Y la solución es $(x_1, x_2, x_3)^T = (29, 16, 3)^T$. Reproduzcamos el sistema visualmente."
   ]
  },
  {
   "cell_type": "code",
   "execution_count": null,
   "metadata": {},
   "outputs": [],
   "source": [
    "x1 = np.linspace(25, 35, 20)\n",
    "x2 = np.linspace(10, 20, 20)\n",
    "X1, X2 = np.meshgrid(x1, x2)\n",
    "\n",
    "fig = plt.figure(figsize = (9, 9))\n",
    "ax = fig.add_subplot(111, projection = '3d')\n",
    "\n",
    "X3 = 2*X2 - X1\n",
    "ax.plot_surface(X1, X2, X3, cmap ='viridis', alpha = 1) \n",
    "\n",
    "X3 = .25*X2 - 1\n",
    "ax.plot_surface(X1, X2, X3, cmap ='summer', alpha = 1)\n",
    "\n",
    "X3 = -5/9*X2 + 4/9*X1 - 1\n",
    "ax.plot_surface(X1, X2, X3, cmap ='spring', alpha = 1)\n",
    "\n",
    "ax.scatter(29, 16, 3, s = 200, color = 'black')\n",
    "plt.show()"
   ]
  },
  {
   "cell_type": "markdown",
   "metadata": {},
   "source": [
    "Estamos seguros de que hay una solución, sin embargo, el gráfico no muestra la intersección de los planos. El problema se origina en el algoritmo de renderizado de Matplotlib, que no está diseñado para dibujar gráficos 3D genuinos. Simplemente proyecta objetos 3D en una dimensión 2D para imitar las características 3D.\n",
    "\n"
   ]
  },
  {
   "cell_type": "markdown",
   "metadata": {},
   "source": [
    "## <font face=\"gotham\" color=\"purple\"> Visualización de un Sistema con Infinitas Soluciones </font>"
   ]
  },
  {
   "cell_type": "markdown",
   "metadata": {},
   "source": [
    "Nuestro sistema de ecuaciones es el siguiente\n",
    "\n",
    "\\begin{align}\n",
    "y-z=&4\\\\\n",
    "2x+y+2z=&4\\\\\n",
    "2x+2y+z=&8\n",
    "\\end{align}"
   ]
  },
  {
   "cell_type": "markdown",
   "metadata": {},
   "source": [
    "Reordenamos para despejar $z$\n",
    "\n",
    "\\begin{align}\n",
    "z=&y-4\\\\\n",
    "z=&2-x-\\frac{y}{2}\\\\\n",
    "z=&8-2x-2y\n",
    "\\end{align}"
   ]
  },
  {
   "cell_type": "code",
   "execution_count": null,
   "metadata": {},
   "outputs": [],
   "source": [
    "\n",
    "# Create the figure and a 3D axis\n",
    "fig = plt.figure(figsize=(12, 12))\n",
    "ax = fig.add_subplot(111, projection='3d')\n",
    "\n",
    "# Create the grid\n",
    "X, Y = np.mgrid[-2:2:21j, 2:6:21j]\n",
    "\n",
    "# Plot the first plane\n",
    "Z1 = Y - 4\n",
    "ax.plot_surface(X, Y, Z1, cmap='spring', alpha=0.5)\n",
    "\n",
    "# Plot the second plane\n",
    "Z2 = 2 - X - Y/2\n",
    "ax.plot_surface(X, Y, Z2, cmap='summer', alpha=0.5)\n",
    "\n",
    "# Plot the third plane\n",
    "Z3 = 8 - 2*X - 2*Y\n",
    "ax.plot_surface(X, Y, Z3, cmap='autumn', alpha=0.5)\n",
    "\n",
    "\n",
    "# Add axes labels\n",
    "ax.set_xlabel('X axis')\n",
    "ax.set_ylabel('Y axis')\n",
    "ax.set_zlabel('Z axis')\n",
    "\n",
    "# Add title\n",
    "plt.title('sistema de ecuaciones lineales con un número infinito de soluciones')\n",
    "\n",
    "# Show the plot\n",
    "plt.show()\n"
   ]
  },
  {
   "cell_type": "markdown",
   "metadata": {},
   "source": [
    "La solución del sistema es $(x,y,z)=(-3z/2,z+4,z)^T$, donde $z$ es una **variable libre**. \n",
    "\n",
    "La solución es una línea infinita en $\\mathbb{R}^3$. Para visualizar la solución se requiere establecer un rango para $x$ e $y$, por ejemplo, podemos establecer\n",
    "\n",
    "\\begin{align}\n",
    "-2 \\leq x \\leq 2\\\\\n",
    "2 \\leq y \\leq 6\n",
    "\\end{align}\n",
    "\n",
    "lo que significa\n",
    "\n",
    "\\begin{align}\n",
    "-2\\leq -\\frac32z\\leq 2\\\\\n",
    "2\\leq z+4 \\leq 6\n",
    "\\end{align}"
   ]
  },
  {
   "cell_type": "markdown",
   "metadata": {},
   "source": [
    "Podemos elegir una desigualdad para establecer el rango de $z$, por ejemplo, la segunda desigualdad: $-2 \\leq z \\leq 2$. \n",
    "\n",
    "Luego, graficamos los planos y las soluciones juntos."
   ]
  },
  {
   "cell_type": "code",
   "execution_count": null,
   "metadata": {},
   "outputs": [],
   "source": [
    "\n",
    "# Create the figure and a 3D axis\n",
    "fig = plt.figure(figsize=(12, 12))\n",
    "ax = fig.add_subplot(111, projection='3d')\n",
    "\n",
    "# Create the grid\n",
    "X, Y = np.mgrid[-2:2:21j, 2:6:21j]\n",
    "\n",
    "# Plot the first plane\n",
    "Z1 = Y - 4\n",
    "ax.plot_surface(X, Y, Z1, cmap='spring', alpha=0.5)\n",
    "\n",
    "# Plot the second plane\n",
    "Z2 = 2 - X - Y / 2\n",
    "ax.plot_surface(X, Y, Z2, cmap='summer', alpha=0.5)\n",
    "\n",
    "# Plot the third plane\n",
    "Z3 = 8 - 2 * X - 2 * Y\n",
    "ax.plot_surface(X, Y, Z3, cmap='autumn', alpha=0.5)\n",
    "\n",
    "# Define the line of infinite solutions\n",
    "ZL = np.linspace(-2, 2, 20)  # ZL means Z for line, chosen range [-2, 2]\n",
    "XL = -3 * ZL / 2\n",
    "YL = ZL + 4\n",
    "\n",
    "# Plot the line\n",
    "ax.plot(XL, YL, ZL, color='black', linewidth=2, label='Infinite Solutions')\n",
    "\n",
    "# Add axes labels\n",
    "ax.set_xlabel('X axis')\n",
    "ax.set_ylabel('Y axis')\n",
    "ax.set_zlabel('Z axis')\n",
    "\n",
    "# Add title and legend\n",
    "plt.title('Un Sistema de Ecuaciones Lineales con Número Infinito de Soluciones')\n",
    "ax.legend()\n",
    "\n",
    "# Show the plot\n",
    "plt.show()\n"
   ]
  },
  {
   "cell_type": "markdown",
   "metadata": {},
   "source": [
    "# <font face=\"gotham\" color=\"purple\"> Forma escalonada de filas reducida </font>"
   ]
  },
  {
   "cell_type": "markdown",
   "metadata": {},
   "source": [
    "Para una demostración sencilla, usaremos SymPy con frecuencia en las clases. SymPy es una biblioteca de cálculo simbólico muy potente; veremos sus características básicas a medida que avancen las clases."
   ]
  },
  {
   "cell_type": "markdown",
   "metadata": {},
   "source": [
    "Definimos una matriz SymPy:"
   ]
  },
  {
   "cell_type": "code",
   "execution_count": null,
   "metadata": {},
   "outputs": [],
   "source": [
    "M = sy.Matrix([[5, 0, 11, 3], [7, 23, -3, 7], [12, 11, 3, -4]]); M"
   ]
  },
  {
   "cell_type": "markdown",
   "metadata": {},
   "source": [
    "Piénselo como una matriz aumentada que combina los coeficientes de un sistema lineal. Con operaciones por filas, podemos resolver el sistema rápidamente. Convirtámoslo en una forma escalonada reducida por filas."
   ]
  },
  {
   "cell_type": "code",
   "execution_count": null,
   "metadata": {
    "editable": true,
    "slideshow": {
     "slide_type": ""
    },
    "tags": []
   },
   "outputs": [],
   "source": [
    "M_rref = M.rref(); M_rref # .rref() is the SymPy method for row reduced echelon form"
   ]
  },
  {
   "cell_type": "markdown",
   "metadata": {},
   "source": [
    "Tomemos el primer elemento entre los paréntesis grandes, es decir, la matriz rref."
   ]
  },
  {
   "cell_type": "code",
   "execution_count": null,
   "metadata": {},
   "outputs": [],
   "source": [
    "M_rref = np.array(M_rref[0]); M_rref"
   ]
  },
  {
   "cell_type": "markdown",
   "metadata": {},
   "source": [
    "Si no te gustan las fracciones, conviértela a tipo flotante."
   ]
  },
  {
   "cell_type": "code",
   "execution_count": null,
   "metadata": {
    "scrolled": true
   },
   "outputs": [],
   "source": [
    "M_rref.astype(float)"
   ]
  },
  {
   "cell_type": "markdown",
   "metadata": {},
   "source": [
    "La última columna de la matriz rref es la solución del sistema."
   ]
  },
  {
   "cell_type": "markdown",
   "metadata": {},
   "source": [
    "## <font face=\"gotham\" color=\"purple\"> Example: rref and Visualisation </font>"
   ]
  },
  {
   "cell_type": "markdown",
   "metadata": {},
   "source": [
    "Usemos el método ```.rref()``` para calcular una solución de un sistema y luego visualizarla. Considera el sistema:"
   ]
  },
  {
   "cell_type": "markdown",
   "metadata": {},
   "source": [
    "\\begin{align}\n",
    "3x+6y+2z&=-13\\\\\n",
    "x+2y+z&=-5\\\\\n",
    "-5x-10y-2z&=19\n",
    "\\end{align}"
   ]
  },
  {
   "cell_type": "markdown",
   "metadata": {},
   "source": [
    "Extraemos la matriz aumentada en una matriz SymPy:"
   ]
  },
  {
   "cell_type": "code",
   "execution_count": null,
   "metadata": {},
   "outputs": [],
   "source": [
    "A = sy.Matrix([[3, 6, 2, -13], [1, 2, 1, -5], [-5, -10, -2, 19]]); A"
   ]
  },
  {
   "cell_type": "code",
   "execution_count": null,
   "metadata": {},
   "outputs": [],
   "source": [
    "A_rref = A.rref(); A_rref"
   ]
  },
  {
   "cell_type": "markdown",
   "metadata": {},
   "source": [
    "En caso de que te preguntes qué es $(0, 2)$: son los índices de las columnas pivote; en la matriz aumentada anterior, las columnas pivote residen en la columna $0$ y $2$."
   ]
  },
  {
   "cell_type": "markdown",
   "metadata": {},
   "source": [
    "Dado que la matriz no es de rango completo, las soluciones se expresan de forma general:\n",
    "\\begin{align}\n",
    "x + 2y & = -3\\\\\n",
    "z &= -2\\\\\n",
    "y &= \\text{variable libre}\n",
    "\\end{align}\n",
    "Para ilustrar, seleccionemos tres valores distintos para $y$, específicamente $(3, 5, 7)$, y calculemos tres soluciones únicas:"
   ]
  },
  {
   "cell_type": "code",
   "execution_count": null,
   "metadata": {},
   "outputs": [],
   "source": [
    "point1 = (-2*3-3, 3, -2)\n",
    "point2 = (-2*5-3, 5, -2)\n",
    "point3 = (-2*7-3, 7, -2)\n",
    "special_solution = np.array([point1, point2, point3]); special_solution # each row is a special solution"
   ]
  },
  {
   "cell_type": "markdown",
   "metadata": {},
   "source": [
    "Podemos visualizar la solución general y las 3 soluciones específicas en conjunto."
   ]
  },
  {
   "cell_type": "code",
   "execution_count": null,
   "metadata": {},
   "outputs": [],
   "source": [
    "y = np.linspace(2, 8, 20) # y is the free variable\n",
    "x = -3 - 2*y\n",
    "z = np.full((len(y), ), -2) # z is a constant"
   ]
  },
  {
   "cell_type": "code",
   "execution_count": null,
   "metadata": {},
   "outputs": [],
   "source": [
    "fig = plt.figure(figsize = (12,9))\n",
    "ax = fig.add_subplot(111, projection='3d')\n",
    "ax.plot(x, y, z, lw = 3, color = 'red')\n",
    "ax.scatter(special_solution[:,0], special_solution[:,1], special_solution[:,2], s = 200)\n",
    "ax.set_title('General Solution and Special Solution of the Linear Sytem', size= 16)\n",
    "plt.show()"
   ]
  },
  {
   "cell_type": "markdown",
   "metadata": {},
   "source": [
    "## <font face=\"gotham\" color=\"purple\"> Ejemplo: Una solución simbólica </font>"
   ]
  },
  {
   "cell_type": "markdown",
   "metadata": {},
   "source": [
    "Consideremos un sistema donde todos los valores del lado derecho son indeterminados:"
   ]
  },
  {
   "cell_type": "markdown",
   "metadata": {},
   "source": [
    "\\begin{align}\n",
    "x + 2y - 3z &= a\\\\\n",
    "4x - y + 8z &= b\\\\\n",
    "2x - 6y - 4z &= c\n",
    "\\end{align}"
   ]
  },
  {
   "cell_type": "markdown",
   "metadata": {},
   "source": [
    "Definimos $a, b, c$ como objetos SymPy, luego extraemos la matriz aumentada"
   ]
  },
  {
   "cell_type": "code",
   "execution_count": null,
   "metadata": {},
   "outputs": [],
   "source": [
    "a, b, c = sy.symbols('a, b, c', real = True)\n",
    "A = sy.Matrix([[1, 2, -3, a], [4, -1, 8, b], [2, -6, -4, c]]); A"
   ]
  },
  {
   "cell_type": "markdown",
   "metadata": {},
   "source": [
    "Podemos obtener inmediatamente la solución simbólica usando el método ```.rref()```."
   ]
  },
  {
   "cell_type": "code",
   "execution_count": null,
   "metadata": {},
   "outputs": [],
   "source": [
    "A_rref = A.rref(); A_rref"
   ]
  },
  {
   "cell_type": "markdown",
   "metadata": {},
   "source": [
    "Por supuesto, podemos sustituir valores de $a$, $b$ y $c$ para obtener una solución específica."
   ]
  },
  {
   "cell_type": "code",
   "execution_count": null,
   "metadata": {},
   "outputs": [],
   "source": [
    "spec_solution = {a: 3, b: 6, c: 7}\n",
    "A_rref = A_rref[0].subs(spec_solution); A_rref # definir un diccionario para valores especiales para sustituir en"
   ]
  },
  {
   "cell_type": "markdown",
   "metadata": {},
   "source": [
    "## <font face=\"gotham\" color=\"purple\"> Ejemplo: Polinomios </font>"
   ]
  },
  {
   "cell_type": "markdown",
   "metadata": {},
   "source": [
    "Para determinar un polinomio cúbico que interseca los puntos $(1,3)$, $(2, -2)$, $(3, -5)$ y $(4, 0)$, consideramos la forma general de un polinomio cúbico:\n",
    "\n",
    "\\begin{align}\n",
    "y = a_0 + a_1x + a_2x^2 + a_3x^3\n",
    "\\end{align}\n",
    "\n",
    "Sustituyendo cada punto en esta ecuación obtenemos:\n",
    "\n",
    "\\begin{align}\n",
    "3 &= a_0 + a_1(1) + a_2(1)^2 + a_3(1)^3 \\\\\n",
    "-2 &= a_0 + a_1(2) + a_2(2)^2 + a_3(2)^3 \\\\\n",
    "-5 &= a_0 + a_1(3) + a_2(3)^2 + a_3(3)^3 \\\\\n",
    "0 &= a_0 + a_1(4) + a_2(4)^2 + a_3(4)^3\n",
    "\\end{align}\n"
   ]
  },
  {
   "cell_type": "markdown",
   "metadata": {},
   "source": [
    "Resulta ser un sistema lineal, el resto ya debería resultar familiar."
   ]
  },
  {
   "cell_type": "markdown",
   "metadata": {},
   "source": [
    "La matriz aumentada es"
   ]
  },
  {
   "cell_type": "code",
   "execution_count": null,
   "metadata": {},
   "outputs": [],
   "source": [
    "A = sy.Matrix([[1, 1, 1, 1, 3], [1, 2, 4, 8, -2], [1, 3, 9, 27, -5], [1, 4, 16, 64, 0]]); A"
   ]
  },
  {
   "cell_type": "code",
   "execution_count": null,
   "metadata": {},
   "outputs": [],
   "source": [
    "A_rref = A.rref(); A_rref\n",
    "poly_coef = [A_rref[0][i, -1] for i in range(A_rref[0].shape[0])]"
   ]
  },
  {
   "cell_type": "markdown",
   "metadata": {},
   "source": [
    "La última columna es la solución, es decir, los coeficientes del polinomio cúbico."
   ]
  },
  {
   "cell_type": "markdown",
   "metadata": {},
   "source": [
    "La forma polinomial cúbica es:\n",
    "$$\n",
    "\\begin{align}\n",
    "y = 4 + 3x - 5x^2 + x^3\n",
    "\\end{align}\n",
    "$$"
   ]
  },
  {
   "cell_type": "markdown",
   "metadata": {},
   "source": [
    "Dado que tenemos la forma específica del polinomio cúbico, podemos graficarlo"
   ]
  },
  {
   "cell_type": "code",
   "execution_count": null,
   "metadata": {},
   "outputs": [],
   "source": [
    "A_rref\n",
    "x = np.linspace(-5, 5, 40)\n",
    "y = poly_coef[0] + poly_coef[1]*x + poly_coef[2]*x**2 + poly_coef[3]*x**3"
   ]
  },
  {
   "cell_type": "code",
   "execution_count": null,
   "metadata": {},
   "outputs": [],
   "source": [
    "fig, ax = plt.subplots(figsize = (8, 8))\n",
    "ax.plot(x, y, lw = 3, color ='red')\n",
    "ax.scatter([1, 2, 3, 4], [3, -2, -5, 0], s = 100, color = 'blue', zorder = 3)\n",
    "ax.grid()\n",
    "ax.set_xlim([0, 5])\n",
    "ax.set_ylim([-10, 10])\n",
    "\n",
    "ax.text(1, 3.5, '$(1, 3)$', fontsize = 15)\n",
    "ax.text(1.5, -2.5, '$(2, -2)$', fontsize = 15)\n",
    "ax.text(2.7, -4, '$(3, -5.5)$', fontsize = 15)\n",
    "ax.text(4.1, 0, '$(4, .5)$', fontsize = 15)\n",
    "plt.show()"
   ]
  },
  {
   "cell_type": "markdown",
   "metadata": {},
   "source": [
    "Ahora que conoces el truco, prueba otros 5 puntos: $(1,2)$, $(2,5)$, $(3,8)$, $(4,6)$, $(5, 9)$. Y la forma polinómica es \n",
    "$$\n",
    "\\begin{align}\n",
    "y=a_0+a_1x+a_2x^2+a_3x^3+a_4x^4\n",
    "\\end{align}\n",
    "$$\n",
    "La matriz aumentada es"
   ]
  },
  {
   "cell_type": "code",
   "execution_count": null,
   "metadata": {},
   "outputs": [],
   "source": [
    "A = sy.Matrix([[1, 1, 1, 1, 1, 2],\n",
    "               [1, 2, 4, 8, 16, 5], \n",
    "               [1, 3, 9, 27, 81, 8], \n",
    "               [1, 4, 16, 64, 256, 6], \n",
    "               [1, 5, 25,125, 625, 9]]); A"
   ]
  },
  {
   "cell_type": "code",
   "execution_count": null,
   "metadata": {},
   "outputs": [],
   "source": [
    "A_rref = A.rref()\n",
    "A_rref = np.array(A_rref[0])\n",
    "coef = A_rref.astype(float)[:,-1];coef"
   ]
  },
  {
   "cell_type": "code",
   "execution_count": null,
   "metadata": {},
   "outputs": [],
   "source": [
    "x = np.linspace(0, 6, 100)\n",
    "y = coef[0] + coef[1]*x + coef[2]*x**2 + coef[3]*x**3 + coef[4]*x**4"
   ]
  },
  {
   "cell_type": "code",
   "execution_count": null,
   "metadata": {},
   "outputs": [],
   "source": [
    "fig, ax = plt.subplots(figsize= (8, 8))\n",
    "ax.plot(x, y, lw =3)\n",
    "ax.scatter([1, 2, 3, 4, 5], [2, 5, 8, 6, 9], s= 100, color = 'red', zorder = 3)\n",
    "ax.grid()"
   ]
  },
  {
   "cell_type": "markdown",
   "metadata": {},
   "source": [
    "# <font face=\"gotham\" color=\"purple\"> Resolver el sistema de ecuaciones lineales con NumPy </font>"
   ]
  },
  {
   "cell_type": "markdown",
   "metadata": {},
   "source": [
    "Configure el sistema $A x = b$, genere un $A$ y un $b$ aleatorios"
   ]
  },
  {
   "cell_type": "code",
   "execution_count": null,
   "metadata": {
    "scrolled": true
   },
   "outputs": [],
   "source": [
    "A = np.round(10 * np.random.rand(5, 5))\n",
    "b = np.round(10 * np.random.rand(5,))"
   ]
  },
  {
   "cell_type": "code",
   "execution_count": null,
   "metadata": {},
   "outputs": [],
   "source": [
    "x = np.linalg.solve(A, b); x"
   ]
  },
  {
   "cell_type": "markdown",
   "metadata": {},
   "source": [
    "Verifiquemos si $ Ax = b$"
   ]
  },
  {
   "cell_type": "code",
   "execution_count": null,
   "metadata": {},
   "outputs": [],
   "source": [
    "A@x - b"
   ]
  },
  {
   "cell_type": "markdown",
   "metadata": {},
   "source": [
    "Técnicamente son ceros, debido a algunos errores de redondeo omitidos, por eso hay un $-$ delante del $0$."
   ]
  }
 ],
 "metadata": {
  "kernelspec": {
   "display_name": "Python 3 (ipykernel)",
   "language": "python",
   "name": "python3"
  },
  "language_info": {
   "codemirror_mode": {
    "name": "ipython",
    "version": 3
   },
   "file_extension": ".py",
   "mimetype": "text/x-python",
   "name": "python",
   "nbconvert_exporter": "python",
   "pygments_lexer": "ipython3",
   "version": "3.11.5"
  },
  "toc": {
   "base_numbering": 1,
   "nav_menu": {},
   "number_sections": true,
   "sideBar": true,
   "skip_h1_title": false,
   "title_cell": "Table of Contents",
   "title_sidebar": "Contents",
   "toc_cell": false,
   "toc_position": {},
   "toc_section_display": true,
   "toc_window_display": false
  }
 },
 "nbformat": 4,
 "nbformat_minor": 4
}
